{
 "cells": [
  {
   "cell_type": "code",
   "execution_count": 23,
   "metadata": {},
   "outputs": [],
   "source": [
    "import pandas as pd\n",
    "import numpy as np\n",
    "data = pd.read_csv('./evaluation.csv')"
   ]
  },
  {
   "cell_type": "code",
   "execution_count": 34,
   "metadata": {},
   "outputs": [],
   "source": [
    "possible_email = data[~data.possible_email.isnull()]['possible_email']"
   ]
  },
  {
   "cell_type": "code",
   "execution_count": 37,
   "metadata": {},
   "outputs": [
    {
     "data": {
      "text/plain": [
       "1                   <me@chelseakomlo.com>\n",
       "2                    <qianrui@pku.edu.cn>\n",
       "3       <bossjones@theblacktonystark.com>\n",
       "7                 <polyzen@archlinux.org>\n",
       "10            <crazycreature11@gmail.com>\n",
       "                      ...                \n",
       "2362            <delton@deltonchilds.com>\n",
       "2363              <alanyangttu@gmail.com>\n",
       "2365             <cschneid@rackspace.com>\n",
       "2366                 <jluisi@hotmail.com>\n",
       "2368                <zachsides@ymail.com>\n",
       "Name: possible_email, Length: 646, dtype: object"
      ]
     },
     "execution_count": 37,
     "metadata": {},
     "output_type": "execute_result"
    }
   ],
   "source": [
    "possible_email[~possible_email.str.contains('noreply', regex=False)]"
   ]
  },
  {
   "cell_type": "code",
   "execution_count": null,
   "metadata": {},
   "outputs": [],
   "source": []
  }
 ],
 "metadata": {
  "kernelspec": {
   "display_name": "Python 3.8.13 ('DL')",
   "language": "python",
   "name": "python3"
  },
  "language_info": {
   "codemirror_mode": {
    "name": "ipython",
    "version": 3
   },
   "file_extension": ".py",
   "mimetype": "text/x-python",
   "name": "python",
   "nbconvert_exporter": "python",
   "pygments_lexer": "ipython3",
   "version": "3.8.13"
  },
  "orig_nbformat": 4,
  "vscode": {
   "interpreter": {
    "hash": "1c3dcf952425d6798ec89f9531a4c8c33ca62f215de2c033a9dcc0190a069095"
   }
  }
 },
 "nbformat": 4,
 "nbformat_minor": 2
}
